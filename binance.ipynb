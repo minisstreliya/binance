{
  "nbformat": 4,
  "nbformat_minor": 0,
  "metadata": {
    "colab": {
      "name": "binance.ipynb",
      "provenance": [],
      "authorship_tag": "ABX9TyOFmLMzdghkvoszVuH2fHGv",
      "include_colab_link": true
    },
    "kernelspec": {
      "name": "python3",
      "display_name": "Python 3"
    },
    "language_info": {
      "name": "python"
    }
  },
  "cells": [
    {
      "cell_type": "markdown",
      "metadata": {
        "id": "view-in-github",
        "colab_type": "text"
      },
      "source": [
        "<a href=\"https://colab.research.google.com/github/minisstreliya/binance/blob/main/binance.ipynb\" target=\"_parent\"><img src=\"https://colab.research.google.com/assets/colab-badge.svg\" alt=\"Open In Colab\"/></a>"
      ]
    },
    {
      "cell_type": "code",
      "metadata": {
        "id": "IFsYpmz0-5Ms"
      },
      "source": [
        "pip install websocket-client"
      ],
      "execution_count": 19,
      "outputs": []
    },
    {
      "cell_type": "code",
      "metadata": {
        "id": "4zEBr8ds-7Pt"
      },
      "source": [
        "import websocket,  json\n",
        "import time\n",
        "import multiprocessing\n",
        "import numpy as np"
      ],
      "execution_count": 10,
      "outputs": []
    },
    {
      "cell_type": "code",
      "metadata": {
        "id": "QO_4Y42k-_7U"
      },
      "source": [
        "socket1 =  f'wss://stream.binance.com:9443/ws/btcusdt@kline_1m'\n",
        "socket2 =  f'wss://stream.binance.com:9443/ws/ethusdt@kline_1m'\n",
        "socket3 = f'wss://stream.binance.com:9443/ws/bnbbtc@kline_1m'"
      ],
      "execution_count": 3,
      "outputs": []
    },
    {
      "cell_type": "code",
      "metadata": {
        "id": "jMgRgPDB_Bmt"
      },
      "source": [
        "\n",
        "def on_message(ws, message):\n",
        "  global marker\n",
        "  global count\n",
        "  \n",
        "  data = json.loads(message)\n",
        "  candle = data['k']\n",
        "  close_price = float(candle['c'])\n",
        "  if data['s'] == 'BTCUSDT':\n",
        "    btcusdt.append(close_price)\n",
        "  if data['s'] == 'BNBBTC':\n",
        "    bnbbtc.append(close_price)\n",
        "  if data['s'] == 'ETHUSDT':\n",
        "    ethusdt.append(close_price)\n",
        "\n",
        "\n",
        "  count += 1  \n",
        "  if count > marker:\n",
        "    count = 1\n",
        "    ws.close()\n",
        "\n",
        "\n",
        "def on_close(ws, close_status_code, close_msg):\n",
        "  print(\"Connection closed\")\n",
        "\n",
        "\n",
        "def running1(btcusdt, ethusdt, bnbbtc):\n",
        "  ws = websocket.WebSocketApp(socket1, on_message=on_message, on_close=on_close)\n",
        "  ws.run_forever()\n",
        "\n",
        "\n",
        "def running2(btcusdt, ethusdt, bnbbtc):\n",
        "  ws = websocket.WebSocketApp(socket2, on_message=on_message, on_close=on_close)\n",
        "  ws.run_forever()\n",
        "\n",
        "\n",
        "def running3(btcusdt, ethusdt, bnbbtc):\n",
        "  ws = websocket.WebSocketApp(socket3, on_message=on_message, on_close=on_close)\n",
        "  ws.run_forever()\n",
        "\n",
        "\n",
        "def ExpMovingAverage(values, window):\n",
        "  weights = np.exp(np.linspace(-1., 0., window))\n",
        "  weights /= weights.sum()\n",
        "  a =  np.convolve(values, weights, mode='full')[:len(values)]\n",
        "  a[:window] = a[window]\n",
        "  return a\n",
        "\n",
        "\n",
        "processes = []\n",
        "\n",
        "marker = int(input(\"Enter the number of values you want to get \"))\n",
        "window = int(input(\"Enter the window size for exponential moving average \"))\n",
        "\n",
        "if marker < window:\n",
        "  window = int(input(\"Window size must be less than number of values \"))\n",
        "\n",
        "manager = multiprocessing.Manager()\n",
        "\n",
        "btcusdt = manager.list()\n",
        "ethusdt = manager.list()\n",
        "bnbbtc = manager.list()\n",
        "bnb = []\n",
        "count = 1\n",
        "res = []\n",
        "\n",
        "\n",
        "p = multiprocessing.Process(target = running1, args=(btcusdt, ethusdt, bnbbtc))\n",
        "p.start()\n",
        "processes.append(p)\n",
        "p = multiprocessing.Process(target = running2, args=(btcusdt, ethusdt, bnbbtc))\n",
        "p.start()\n",
        "processes.append(p)\n",
        "p = multiprocessing.Process(target = running3, args=(btcusdt, ethusdt, bnbbtc))\n",
        "p.start()\n",
        "processes.append(p)\n",
        "\n",
        "\n",
        "for p in processes:\n",
        "    p.join()\n",
        "\n",
        "ema_btcusdt = ExpMovingAverage(btcusdt, window).tolist()\n",
        "ema_bnbbtc = ExpMovingAverage(bnbbtc, window).tolist()\n",
        "ema_ethusdt = ExpMovingAverage(ethusdt, window).tolist()\n",
        "\n",
        "currencies = [ema_btcusdt, ema_bnbbtc, ema_ethusdt]\n",
        "\n",
        "currencies_name = ['EMA for BTC/USDT : ','EMA for BNB/BTC : ', 'EMA for ETH/USDT : ']\n",
        "i = 0\n",
        "ema_for_currencies = open(\"EMA_for_currencies.txt\", \"w+\")\n",
        "ema_for_currencies.write('Asked values : ' + str(marker) + '\\n')\n",
        "ema_for_currencies.write('Window size for EMA : ' + str(window) + '\\n')\n",
        "for currency in currencies:\n",
        "  ema_for_currencies.write(currencies_name[i])\n",
        "  i += 1\n",
        "  for element in currency:\n",
        "    ema_for_currencies.write(str(element) + ' ')\n",
        "  ema_for_currencies.write('\\n')\n",
        "ema_for_currencies.close()\n",
        "\n",
        "print('Done. Check the file')\n",
        "\n",
        "#print('btcusdt vne ', btcusdt)\n",
        "#print('bnbbtc vne ', bnbbtc)\n",
        "#print('ethusdt vne ', ethusdt)\n",
        "\n",
        "#print('ema for btcusdt ', ema_btcusdt)\n",
        "#print('ema for bnbbtc ', ema_bnbbtc)\n",
        "#print('ema for ethusdt ', ema_ethusdt)"
      ],
      "execution_count": null,
      "outputs": []
    },
    {
      "cell_type": "code",
      "metadata": {
        "id": "T1z2aTbkXNvh"
      },
      "source": [
        ""
      ],
      "execution_count": null,
      "outputs": []
    },
    {
      "cell_type": "code",
      "metadata": {
        "id": "TFwTTPVp_IAX"
      },
      "source": [
        "\n"
      ],
      "execution_count": null,
      "outputs": []
    },
    {
      "cell_type": "code",
      "metadata": {
        "id": "2QqFW2IS_O2B"
      },
      "source": [
        ""
      ],
      "execution_count": 79,
      "outputs": []
    },
    {
      "cell_type": "code",
      "metadata": {
        "id": "J0GL-PWu_edX"
      },
      "source": [
        ""
      ],
      "execution_count": null,
      "outputs": []
    }
  ]
}